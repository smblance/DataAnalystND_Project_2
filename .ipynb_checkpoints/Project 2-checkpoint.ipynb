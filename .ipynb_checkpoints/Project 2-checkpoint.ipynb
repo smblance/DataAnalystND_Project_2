{
 "cells": [
  {
   "cell_type": "code",
   "execution_count": 30,
   "metadata": {
    "collapsed": false
   },
   "outputs": [
    {
     "name": "stdout",
     "output_type": "stream",
     "text": [
      "['Unnamed: 0' 'UNIT' 'DATEn' 'TIMEn' 'Hour' 'DESCn' 'ENTRIESn_hourly'\n",
      " 'EXITSn_hourly' 'maxpressurei' 'maxdewpti' 'mindewpti' 'minpressurei'\n",
      " 'meandewpti' 'meanpressurei' 'fog' 'rain' 'meanwindspdi' 'mintempi'\n",
      " 'meantempi' 'maxtempi' 'precipi' 'thunder']\n",
      "131951\n"
     ]
    }
   ],
   "source": [
    "import pandas as pd\n",
    "import numpy as np\n",
    "import scipy.stats as st\n",
    "import sklearn\n",
    "from ggplot import *\n",
    "%matplotlib inline\n",
    "data_1 = pd.read_csv(\"turnstile_data_master_with_weather.csv\")\n",
    "print data_1.columns.values\n",
    "print len(data_1)"
   ]
  },
  {
   "cell_type": "code",
   "execution_count": 4,
   "metadata": {
    "collapsed": false
   },
   "outputs": [
    {
     "name": "stdout",
     "output_type": "stream",
     "text": [
      "['UNIT' 'DATEn' 'TIMEn' 'ENTRIESn' 'EXITSn' 'ENTRIESn_hourly'\n",
      " 'EXITSn_hourly' 'datetime' 'hour' 'day_week' 'weekday' 'station'\n",
      " 'latitude' 'longitude' 'conds' 'fog' 'precipi' 'pressurei' 'rain' 'tempi'\n",
      " 'wspdi' 'meanprecipi' 'meanpressurei' 'meantempi' 'meanwspdi'\n",
      " 'weather_lat' 'weather_lon']\n",
      "42649\n"
     ]
    }
   ],
   "source": [
    "data_2 = pd.read_csv(\"turnstile_weather_v2.csv\")\n",
    "print data_2.columns.values\n",
    "print len(data_2)"
   ]
  },
  {
   "cell_type": "code",
   "execution_count": 52,
   "metadata": {
    "collapsed": false
   },
   "outputs": [
    {
     "name": "stdout",
     "output_type": "stream",
     "text": [
      "9585\n",
      "33064\n",
      "set([0, 1, 2, 3, 4, 5, 6])\n",
      "set([0, 1])\n",
      "set(['Heavy Rain', 'Light Drizzle', 'Fog', 'Mostly Cloudy', 'Clear', 'Overcast', 'Light Rain', 'Rain', 'Haze', 'Partly Cloudy', 'Mist', 'Scattered Clouds'])\n",
      "set([0, 1])\n"
     ]
    }
   ],
   "source": [
    "data_rain = data_2[data_2.rain == 1]['ENTRIESn_hourly']\n",
    "data_norain = data_2[data_2.rain == 0]['ENTRIESn_hourly']\n",
    "print set(data_2.day_week)\n",
    "print set(data_2.weekday)\n",
    "print set(data_2.conds)\n",
    "print set(data_2.fog)"
   ]
  },
  {
   "cell_type": "code",
   "execution_count": 74,
   "metadata": {
    "collapsed": false,
    "scrolled": false
   },
   "outputs": [
    {
     "name": "stdout",
     "output_type": "stream",
     "text": [
      "Mean with rain: 2028.20, Mean without rain: 1845.54\n",
      "1% left-sided critical value: 155990241.5\n",
      "Mann-Whitney result: statistic = 153635120.5, pvalue = 2.74e-06\n"
     ]
    }
   ],
   "source": [
    "n1 = len(data_rain)\n",
    "n2 = len(data_norain)\n",
    "loc = n1*n2/2\n",
    "scale = (n1*n2*(n1+n2+1)/12)**0.5\n",
    "print \"Mean with rain: %.2f, Mean without rain: %.2f\"%(data_rain.mean(),data_norain.mean())\n",
    "print \"1%% left-sided critical value: %.1f\"%float((st.norm.ppf(0.01)*scale + loc))\n",
    "print \"Mann-Whitney result: statistic = %.1f, pvalue = %.2e\"%scipy.stats.mannwhitneyu(data_2[data_2.rain == 0].ENTRIESn_hourly, data_2[data_2.rain == 1].ENTRIESn_hourly)"
   ]
  },
  {
   "cell_type": "markdown",
   "metadata": {},
   "source": [
    "The means are 2028.20 hourly entries when it rains, and 1845.54 entries when it doesn't.\n",
    "The (left-sided) critical value for 1% significance level with sample sizes of n1 = 9585 and n2 = 33064 is 155990241,5.<br />\n",
    "As the value of the statistic is less than this critical value, we reject the null hypothesis.<br />\n",
    "The obtained p-value is 2.74\\*10<sup>-6</sup>."
   ]
  },
  {
   "cell_type": "code",
   "execution_count": null,
   "metadata": {
    "collapsed": true
   },
   "outputs": [],
   "source": [
    "regression = sklearn.linear_model.LinearRegression()\n",
    "regression.fit()"
   ]
  }
 ],
 "metadata": {
  "kernelspec": {
   "display_name": "Python 2",
   "language": "python",
   "name": "python2"
  },
  "language_info": {
   "codemirror_mode": {
    "name": "ipython",
    "version": 2
   },
   "file_extension": ".py",
   "mimetype": "text/x-python",
   "name": "python",
   "nbconvert_exporter": "python",
   "pygments_lexer": "ipython2",
   "version": "2.7.10"
  }
 },
 "nbformat": 4,
 "nbformat_minor": 0
}
